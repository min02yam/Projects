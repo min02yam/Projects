{
 "cells": [
  {
   "cell_type": "markdown",
   "id": "0742fc1b",
   "metadata": {},
   "source": [
    "<b><span style=\"color:White; background-color:DodgerBlue; font-size:210%\">🤍목차🤍</span></b> \n",
    "1. <span style=\"font-size:110%\">`데이터 전처리`<br></span><\n",
    "    1-1. Potention Ouliers 임퓨테이션 ➡️ 퀀타일값 활용<br>\n",
    "    1-2. 로그변환 (1-1. 과 상호작용)<br>\n",
    "2. <span style=\"font-size:110%\">`피처엔지니어링`<br></span><\n",
    "    2-1. type_as 파생변수생성<br>\n",
    "    2-2. type_im 파생변수 생성➡️ 원핫인코딩후 prop_type_im 만들기<br>\n",
    "    2-3. area  파생변수 생성 ➡️ 공급면적, 퀀타일 값 조합<br>\n",
    "    2-4. area_pop 파생변수 생성 ➡️ area그룹별로 더해서 tot_pop과 cor비교<br>\n",
    "    2-5. type_qual 파생변수 생성 ➡️ 원핫 인코딩 후 prop_type_qual 만듦<br>\n",
    "    2-6. fee_deposit, fee_rent 파생변수 생성 ➡️ CODE별 median, mean 변수 생성<br>\n",
    "    2-7. CODE 그룹화➡️duplicated 처리<br>\n",
    "3. <span style=\"font-size:110%\">`모델링`<br></span><\n",
    "   3-1. 다중 선형 회귀(Multiple Linear Regression)<br>\n",
    "      1)TEST SET에 전처리 과정 적용<br>\n",
    "      2)모형 적합(정규성진단➡️ )<br>\n",
    "   3-2. 랜덤포레스트 (Random Forest)<br>\n",
    "   3-3. 서포트 벡터 머신(Suport Vector Machine)<br>\n",
    "   3-4. 배깅(Bagging)\n",
    "4. <span style=\"font-size:110%\">`성능개선`</span> <br>\n",
    "   4-1. 성별 데이터셋 머징후 성능 확인<br>\n",
    "   4-2. 정규화 후 성능 확인"
   ]
  }
 ],
 "metadata": {
  "kernelspec": {
   "display_name": "R",
   "language": "R",
   "name": "ir"
  },
  "language_info": {
   "codemirror_mode": "r",
   "file_extension": ".r",
   "mimetype": "text/x-r-source",
   "name": "R",
   "pygments_lexer": "r",
   "version": "3.6.1"
  },
  "toc": {
   "base_numbering": 1,
   "nav_menu": {},
   "number_sections": true,
   "sideBar": true,
   "skip_h1_title": false,
   "title_cell": "Table of Contents",
   "title_sidebar": "Contents",
   "toc_cell": false,
   "toc_position": {},
   "toc_section_display": true,
   "toc_window_display": false
  }
 },
 "nbformat": 4,
 "nbformat_minor": 5
}
