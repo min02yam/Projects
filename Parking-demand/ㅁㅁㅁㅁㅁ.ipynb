{
 "cells": [
  {
   "cell_type": "markdown",
   "id": "e7568a34",
   "metadata": {},
   "source": [
    "------목차------\n",
    "1. 데이터 전처리\n",
    "    1-1. Potention Ouliers 임퓨테이션 ➡️ 퀀타일값 활용\n",
    "2. 피처엔지니어링\n",
    "    2-1. 로그변환(1-1.과 상호작용)\n",
    "    2-2. type_as 파생변수생성\n",
    "    2-3. area  파생변수 생성 ➡️ 공급면적, 퀀타일 값 조합\n",
    "    2-4. rea_pop,area_pop 파생변수 생성 ➡️ area그룹별로 더해서 tot_pop과 cor비교\n",
    "    2-5. type_qual 파생변수 생성 ➡️ 원핫 인코딩 후 prop_type_qual 만듦\n",
    "    2-6. fee_deposit, fee_rent 파생변수 생성 ➡️ CODE별 median, mean 변수 생성\n",
    "    2-7. CODE 그룹화➡️duplicated 처리\n",
    "3. 모델링\n",
    "3-1. 다중 선형 회귀(Multiple Linear Regression)\n",
    " - TEST SET에 전처리 과정 적용\n",
    " - 모형 적합(정규성진단➡️ )\n",
    "3-2.\n",
    "3-3.\n",
    "3-4.\n"
   ]
  }
 ],
 "metadata": {
  "kernelspec": {
   "display_name": "R",
   "language": "R",
   "name": "ir"
  },
  "language_info": {
   "codemirror_mode": "r",
   "file_extension": ".r",
   "mimetype": "text/x-r-source",
   "name": "R",
   "pygments_lexer": "r",
   "version": "3.6.1"
  },
  "toc": {
   "base_numbering": 1,
   "nav_menu": {},
   "number_sections": true,
   "sideBar": true,
   "skip_h1_title": false,
   "title_cell": "Table of Contents",
   "title_sidebar": "Contents",
   "toc_cell": false,
   "toc_position": {},
   "toc_section_display": true,
   "toc_window_display": false
  }
 },
 "nbformat": 4,
 "nbformat_minor": 5
}
